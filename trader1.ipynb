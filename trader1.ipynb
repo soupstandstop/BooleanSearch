{
 "cells": [
  {
   "cell_type": "markdown",
   "metadata": {},
   "source": [
    "# Query build inverted index"
   ]
  },
  {
   "cell_type": "markdown",
   "metadata": {},
   "source": [
    "## 將query每一行的word建 dictionary"
   ]
  },
  {
   "cell_type": "code",
   "execution_count": 10,
   "metadata": {
    "scrolled": true
   },
   "outputs": [],
   "source": [
    "query = open('/Users/soup/PycharmProjects/DSAIHW02/query.txt', \"r\")\n",
    "dict={}\n",
    "for line in query: # 逐行讀取檔案內容，直至檔案結尾\n",
    "    line = line.split() # 以空白鍵分割\n",
    "    for word in line: # 逐行看word\n",
    "        if word not in dict: # build word in dictionary \n",
    "            dict[word] = [] \n",
    "        else: pass"
   ]
  },
  {
   "cell_type": "markdown",
   "metadata": {},
   "source": [
    "## 逐列掃source中的詞，如果有出現在dict的某key裡，就將那列的id加到dict key's value "
   ]
  },
  {
   "cell_type": "code",
   "execution_count": 11,
   "metadata": {},
   "outputs": [],
   "source": [
    "with open(\"/Users/soup/PycharmProjects/DSAIHW02/source.csv\") as source:\n",
    "    for text in source:\n",
    "        for key in dict:\n",
    "            if key in text:\n",
    "                dict[key].append(text.split(',')[0])\n",
    "            else: pass"
   ]
  },
  {
   "cell_type": "markdown",
   "metadata": {},
   "source": [
    "### 掃query的每一列，以空白鍵分割，return list \n",
    "### 因為有加and, or, not，所以query的長度只會是奇數，若都沒出現，長度=1，也為奇數\n",
    "### 如果query中出現 'and': 交集\n",
    "### 如果query中出現 'or': 聯集\n",
    "### 如果query中出現 'not': \n",
    "####   1. len(line)=3: dict[line[0]]-( dict[line[0]]交集dict[line[2]] )\n",
    "####   2. len(line)>=5: (dict[line[0]]聯集dict[line[2]]聯集...)-( dict[line[2]] )-( dict[line[4]] )-...\n",
    "### 如果query中都沒出現and or not: return dict[line[0]]"
   ]
  },
  {
   "cell_type": "code",
   "execution_count": 12,
   "metadata": {},
   "outputs": [],
   "source": [
    "with open ('output.txt', 'w') as output:\n",
    "    query = open('/Users/soup/PycharmProjects/DSAIHW02/query.txt', \"r\")\n",
    "    for line in query: # 逐行讀取檔案內容，直至檔案結尾\n",
    "        line = line.split() # 以空白鍵分割\n",
    "        if len(line)>=3:\n",
    "            if 'and' in line:\n",
    "                i=1\n",
    "                x = list(set(dict[line[0]]).intersection(dict[line[2]]))\n",
    "                while i<len(line)-1:\n",
    "                    y = list(set(x).intersection(dict[line[i+1]]))\n",
    "                    x = y\n",
    "                    i += 2\n",
    "                real = x\n",
    "                #print(real)\n",
    "\n",
    "            elif 'or' in line:\n",
    "                i=1\n",
    "                x = list(set(dict[line[0]]).union(dict[line[2]]))\n",
    "                while i<len(line)-1:\n",
    "                    y = list(set(x).union(dict[line[i+1]]))\n",
    "                    x = y\n",
    "                    i += 2\n",
    "                real = x\n",
    "                #print(real)\n",
    "\n",
    "            elif 'not' in line:\n",
    "                # 若len(line)==3，那麼就是dict[line[0]] - (dict[line[0]]交集dict[line[2]])\n",
    "                if len(line)==3:\n",
    "                    i=1\n",
    "                    x = list(set(dict[line[0]]).intersection(dict[line[2]]))\n",
    "                    while i<len(line)-1:\n",
    "                        y = list(set(x).intersection(dict[line[i+1]]))\n",
    "                        x = y\n",
    "                        i += 2\n",
    "                    real = list(set(dict[line[0]]) - set(x))\n",
    "                #若len(line)為5以上，那麼就是(dict[line[0]]聯集dict[line[2]]聯集dict[line[4]]...)\n",
    "                #減去dict[line[2]]-dict[line[4]]-...\n",
    "                else:\n",
    "                    i=1\n",
    "                    x = list(set(dict[line[0]]).union(dict[line[2]]))\n",
    "                    while i<len(line)-1:\n",
    "                        y = list(set(x).union(dict[line[i+1]]))\n",
    "                        x = y\n",
    "                        i += 2\n",
    "                    \n",
    "                    j=3\n",
    "                    a = set(x) - set(line[2])\n",
    "                    while i<len(line)-1:\n",
    "                        b = set(a) - set(line[j+1])\n",
    "                        a = b\n",
    "                        j += 2\n",
    "                    real = a \n",
    "                #print(real)\n",
    "\n",
    "        else:\n",
    "            real = list(dict[line[0]])\n",
    "            #print(real)\n",
    "\n",
    "        if not real: # if real is empty\n",
    "            output.writelines('0')\n",
    "            output.writelines('\\n')\n",
    "        else:\n",
    "            output.writelines(','.join(str(i) for i in sorted(real, key=int)))\n",
    "            output.writelines('\\n')\n",
    "    query.close() "
   ]
  }
 ],
 "metadata": {
  "kernelspec": {
   "display_name": "Python 3",
   "language": "python",
   "name": "python3"
  },
  "language_info": {
   "codemirror_mode": {
    "name": "ipython",
    "version": 3
   },
   "file_extension": ".py",
   "mimetype": "text/x-python",
   "name": "python",
   "nbconvert_exporter": "python",
   "pygments_lexer": "ipython3",
   "version": "3.6.4"
  }
 },
 "nbformat": 4,
 "nbformat_minor": 2
}
